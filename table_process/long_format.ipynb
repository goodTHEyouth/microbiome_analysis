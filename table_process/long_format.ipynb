{
 "cells": [
  {
   "cell_type": "code",
   "execution_count": 7,
   "id": "cab2c120-be46-46d7-b487-a49db6d58c56",
   "metadata": {},
   "outputs": [],
   "source": [
    "library(reshape2)\n",
    "library(dplyr)"
   ]
  },
  {
   "cell_type": "code",
   "execution_count": 37,
   "id": "ac4c092b-3e87-48ce-b2e3-6612d06f6adf",
   "metadata": {},
   "outputs": [
    {
     "data": {
      "text/html": [
       "'/mnt/raid7/mingyuwang/gut_fungus/example_PRJNA751473_ITS/04_feature_table'"
      ],
      "text/latex": [
       "'/mnt/raid7/mingyuwang/gut\\_fungus/example\\_PRJNA751473\\_ITS/04\\_feature\\_table'"
      ],
      "text/markdown": [
       "'/mnt/raid7/mingyuwang/gut_fungus/example_PRJNA751473_ITS/04_feature_table'"
      ],
      "text/plain": [
       "[1] \"/mnt/raid7/mingyuwang/gut_fungus/example_PRJNA751473_ITS/04_feature_table\""
      ]
     },
     "metadata": {},
     "output_type": "display_data"
    }
   ],
   "source": [
    "getwd()"
   ]
  },
  {
   "cell_type": "code",
   "execution_count": 2,
   "id": "e9921772-4980-40f5-9416-e9ee1f8bbc53",
   "metadata": {},
   "outputs": [],
   "source": [
    "feature_s <- read.csv(\"level-7.csv\", header=TRUE) # feature table at species level\n",
    "feature_g <- read.csv(\"level-6.csv\", header=TRUE) # feature table at genus level"
   ]
  },
  {
   "cell_type": "code",
   "execution_count": 27,
   "id": "56713894-bbf0-40a5-acfc-de29c796f41e",
   "metadata": {},
   "outputs": [
    {
     "name": "stderr",
     "output_type": "stream",
     "text": [
      "Using index, phenotype, label as id variables\n",
      "\n"
     ]
    },
    {
     "data": {
      "text/html": [
       "<table class=\"dataframe\">\n",
       "<caption>A tibble: 6 × 5</caption>\n",
       "<thead>\n",
       "\t<tr><th scope=col>index</th><th scope=col>phenotype</th><th scope=col>label</th><th scope=col>taxon_name</th><th scope=col>abundance</th></tr>\n",
       "\t<tr><th scope=col>&lt;chr&gt;</th><th scope=col>&lt;chr&gt;</th><th scope=col>&lt;chr&gt;</th><th scope=col>&lt;fct&gt;</th><th scope=col>&lt;dbl&gt;</th></tr>\n",
       "</thead>\n",
       "<tbody>\n",
       "\t<tr><td>SRR15323178</td><td>Atopic-085</td><td>atopic</td><td>k__Fungi.p__Ascomycota.c__Eurotiomycetes.o__Eurotiales.f__Aspergillaceae.g__Aspergillus.s__Aspergillus_aculeatus</td><td>11193</td></tr>\n",
       "\t<tr><td>SRR15323179</td><td>Atopic-079</td><td>atopic</td><td>k__Fungi.p__Ascomycota.c__Eurotiomycetes.o__Eurotiales.f__Aspergillaceae.g__Aspergillus.s__Aspergillus_aculeatus</td><td> 8734</td></tr>\n",
       "\t<tr><td>SRR15323180</td><td>Atopic-173</td><td>atopic</td><td>k__Fungi.p__Ascomycota.c__Eurotiomycetes.o__Eurotiales.f__Aspergillaceae.g__Aspergillus.s__Aspergillus_aculeatus</td><td>  313</td></tr>\n",
       "\t<tr><td>SRR15323181</td><td>Atopic-202</td><td>atopic</td><td>k__Fungi.p__Ascomycota.c__Eurotiomycetes.o__Eurotiales.f__Aspergillaceae.g__Aspergillus.s__Aspergillus_aculeatus</td><td>  900</td></tr>\n",
       "\t<tr><td>SRR15323182</td><td>Atopic-257</td><td>atopic</td><td>k__Fungi.p__Ascomycota.c__Eurotiomycetes.o__Eurotiales.f__Aspergillaceae.g__Aspergillus.s__Aspergillus_aculeatus</td><td> 3135</td></tr>\n",
       "\t<tr><td>SRR15323183</td><td>Atopic-281</td><td>atopic</td><td>k__Fungi.p__Ascomycota.c__Eurotiomycetes.o__Eurotiales.f__Aspergillaceae.g__Aspergillus.s__Aspergillus_aculeatus</td><td>18297</td></tr>\n",
       "</tbody>\n",
       "</table>\n"
      ],
      "text/latex": [
       "A tibble: 6 × 5\n",
       "\\begin{tabular}{lllll}\n",
       " index & phenotype & label & taxon\\_name & abundance\\\\\n",
       " <chr> & <chr> & <chr> & <fct> & <dbl>\\\\\n",
       "\\hline\n",
       "\t SRR15323178 & Atopic-085 & atopic & k\\_\\_Fungi.p\\_\\_Ascomycota.c\\_\\_Eurotiomycetes.o\\_\\_Eurotiales.f\\_\\_Aspergillaceae.g\\_\\_Aspergillus.s\\_\\_Aspergillus\\_aculeatus & 11193\\\\\n",
       "\t SRR15323179 & Atopic-079 & atopic & k\\_\\_Fungi.p\\_\\_Ascomycota.c\\_\\_Eurotiomycetes.o\\_\\_Eurotiales.f\\_\\_Aspergillaceae.g\\_\\_Aspergillus.s\\_\\_Aspergillus\\_aculeatus &  8734\\\\\n",
       "\t SRR15323180 & Atopic-173 & atopic & k\\_\\_Fungi.p\\_\\_Ascomycota.c\\_\\_Eurotiomycetes.o\\_\\_Eurotiales.f\\_\\_Aspergillaceae.g\\_\\_Aspergillus.s\\_\\_Aspergillus\\_aculeatus &   313\\\\\n",
       "\t SRR15323181 & Atopic-202 & atopic & k\\_\\_Fungi.p\\_\\_Ascomycota.c\\_\\_Eurotiomycetes.o\\_\\_Eurotiales.f\\_\\_Aspergillaceae.g\\_\\_Aspergillus.s\\_\\_Aspergillus\\_aculeatus &   900\\\\\n",
       "\t SRR15323182 & Atopic-257 & atopic & k\\_\\_Fungi.p\\_\\_Ascomycota.c\\_\\_Eurotiomycetes.o\\_\\_Eurotiales.f\\_\\_Aspergillaceae.g\\_\\_Aspergillus.s\\_\\_Aspergillus\\_aculeatus &  3135\\\\\n",
       "\t SRR15323183 & Atopic-281 & atopic & k\\_\\_Fungi.p\\_\\_Ascomycota.c\\_\\_Eurotiomycetes.o\\_\\_Eurotiales.f\\_\\_Aspergillaceae.g\\_\\_Aspergillus.s\\_\\_Aspergillus\\_aculeatus & 18297\\\\\n",
       "\\end{tabular}\n"
      ],
      "text/markdown": [
       "\n",
       "A tibble: 6 × 5\n",
       "\n",
       "| index &lt;chr&gt; | phenotype &lt;chr&gt; | label &lt;chr&gt; | taxon_name &lt;fct&gt; | abundance &lt;dbl&gt; |\n",
       "|---|---|---|---|---|\n",
       "| SRR15323178 | Atopic-085 | atopic | k__Fungi.p__Ascomycota.c__Eurotiomycetes.o__Eurotiales.f__Aspergillaceae.g__Aspergillus.s__Aspergillus_aculeatus | 11193 |\n",
       "| SRR15323179 | Atopic-079 | atopic | k__Fungi.p__Ascomycota.c__Eurotiomycetes.o__Eurotiales.f__Aspergillaceae.g__Aspergillus.s__Aspergillus_aculeatus |  8734 |\n",
       "| SRR15323180 | Atopic-173 | atopic | k__Fungi.p__Ascomycota.c__Eurotiomycetes.o__Eurotiales.f__Aspergillaceae.g__Aspergillus.s__Aspergillus_aculeatus |   313 |\n",
       "| SRR15323181 | Atopic-202 | atopic | k__Fungi.p__Ascomycota.c__Eurotiomycetes.o__Eurotiales.f__Aspergillaceae.g__Aspergillus.s__Aspergillus_aculeatus |   900 |\n",
       "| SRR15323182 | Atopic-257 | atopic | k__Fungi.p__Ascomycota.c__Eurotiomycetes.o__Eurotiales.f__Aspergillaceae.g__Aspergillus.s__Aspergillus_aculeatus |  3135 |\n",
       "| SRR15323183 | Atopic-281 | atopic | k__Fungi.p__Ascomycota.c__Eurotiomycetes.o__Eurotiales.f__Aspergillaceae.g__Aspergillus.s__Aspergillus_aculeatus | 18297 |\n",
       "\n"
      ],
      "text/plain": [
       "  index       phenotype  label \n",
       "1 SRR15323178 Atopic-085 atopic\n",
       "2 SRR15323179 Atopic-079 atopic\n",
       "3 SRR15323180 Atopic-173 atopic\n",
       "4 SRR15323181 Atopic-202 atopic\n",
       "5 SRR15323182 Atopic-257 atopic\n",
       "6 SRR15323183 Atopic-281 atopic\n",
       "  taxon_name                                                                                                      \n",
       "1 k__Fungi.p__Ascomycota.c__Eurotiomycetes.o__Eurotiales.f__Aspergillaceae.g__Aspergillus.s__Aspergillus_aculeatus\n",
       "2 k__Fungi.p__Ascomycota.c__Eurotiomycetes.o__Eurotiales.f__Aspergillaceae.g__Aspergillus.s__Aspergillus_aculeatus\n",
       "3 k__Fungi.p__Ascomycota.c__Eurotiomycetes.o__Eurotiales.f__Aspergillaceae.g__Aspergillus.s__Aspergillus_aculeatus\n",
       "4 k__Fungi.p__Ascomycota.c__Eurotiomycetes.o__Eurotiales.f__Aspergillaceae.g__Aspergillus.s__Aspergillus_aculeatus\n",
       "5 k__Fungi.p__Ascomycota.c__Eurotiomycetes.o__Eurotiales.f__Aspergillaceae.g__Aspergillus.s__Aspergillus_aculeatus\n",
       "6 k__Fungi.p__Ascomycota.c__Eurotiomycetes.o__Eurotiales.f__Aspergillaceae.g__Aspergillus.s__Aspergillus_aculeatus\n",
       "  abundance\n",
       "1 11193    \n",
       "2  8734    \n",
       "3   313    \n",
       "4   900    \n",
       "5  3135    \n",
       "6 18297    "
      ]
     },
     "metadata": {},
     "output_type": "display_data"
    },
    {
     "data": {
      "text/html": [
       "<table class=\"dataframe\">\n",
       "<caption>A tibble: 6 × 5</caption>\n",
       "<thead>\n",
       "\t<tr><th scope=col>index</th><th scope=col>phenotype</th><th scope=col>label</th><th scope=col>taxon_name</th><th scope=col>abundance</th></tr>\n",
       "\t<tr><th scope=col>&lt;chr&gt;</th><th scope=col>&lt;chr&gt;</th><th scope=col>&lt;chr&gt;</th><th scope=col>&lt;fct&gt;</th><th scope=col>&lt;dbl&gt;</th></tr>\n",
       "</thead>\n",
       "<tbody>\n",
       "\t<tr><td>SRR15323206</td><td>Healthy-116</td><td>healthy</td><td>k__Fungi.p__Basidiomycota.c__Malasseziomycetes.o__Malasseziales.f__Malasseziaceae.g__Malassezia.s__Malassezia_restricta</td><td>0</td></tr>\n",
       "\t<tr><td>SRR15323207</td><td>Healthy-120</td><td>healthy</td><td>k__Fungi.p__Basidiomycota.c__Malasseziomycetes.o__Malasseziales.f__Malasseziaceae.g__Malassezia.s__Malassezia_restricta</td><td>0</td></tr>\n",
       "\t<tr><td>SRR15323208</td><td>Healthy-317</td><td>healthy</td><td>k__Fungi.p__Basidiomycota.c__Malasseziomycetes.o__Malasseziales.f__Malasseziaceae.g__Malassezia.s__Malassezia_restricta</td><td>0</td></tr>\n",
       "\t<tr><td>SRR15323209</td><td>Healthy-362</td><td>healthy</td><td>k__Fungi.p__Basidiomycota.c__Malasseziomycetes.o__Malasseziales.f__Malasseziaceae.g__Malassezia.s__Malassezia_restricta</td><td>0</td></tr>\n",
       "\t<tr><td>SRR15323210</td><td>Healthy-384</td><td>healthy</td><td>k__Fungi.p__Basidiomycota.c__Malasseziomycetes.o__Malasseziales.f__Malasseziaceae.g__Malassezia.s__Malassezia_restricta</td><td>0</td></tr>\n",
       "\t<tr><td>SRR15323211</td><td>Healthy-102</td><td>healthy</td><td>k__Fungi.p__Basidiomycota.c__Malasseziomycetes.o__Malasseziales.f__Malasseziaceae.g__Malassezia.s__Malassezia_restricta</td><td>0</td></tr>\n",
       "</tbody>\n",
       "</table>\n"
      ],
      "text/latex": [
       "A tibble: 6 × 5\n",
       "\\begin{tabular}{lllll}\n",
       " index & phenotype & label & taxon\\_name & abundance\\\\\n",
       " <chr> & <chr> & <chr> & <fct> & <dbl>\\\\\n",
       "\\hline\n",
       "\t SRR15323206 & Healthy-116 & healthy & k\\_\\_Fungi.p\\_\\_Basidiomycota.c\\_\\_Malasseziomycetes.o\\_\\_Malasseziales.f\\_\\_Malasseziaceae.g\\_\\_Malassezia.s\\_\\_Malassezia\\_restricta & 0\\\\\n",
       "\t SRR15323207 & Healthy-120 & healthy & k\\_\\_Fungi.p\\_\\_Basidiomycota.c\\_\\_Malasseziomycetes.o\\_\\_Malasseziales.f\\_\\_Malasseziaceae.g\\_\\_Malassezia.s\\_\\_Malassezia\\_restricta & 0\\\\\n",
       "\t SRR15323208 & Healthy-317 & healthy & k\\_\\_Fungi.p\\_\\_Basidiomycota.c\\_\\_Malasseziomycetes.o\\_\\_Malasseziales.f\\_\\_Malasseziaceae.g\\_\\_Malassezia.s\\_\\_Malassezia\\_restricta & 0\\\\\n",
       "\t SRR15323209 & Healthy-362 & healthy & k\\_\\_Fungi.p\\_\\_Basidiomycota.c\\_\\_Malasseziomycetes.o\\_\\_Malasseziales.f\\_\\_Malasseziaceae.g\\_\\_Malassezia.s\\_\\_Malassezia\\_restricta & 0\\\\\n",
       "\t SRR15323210 & Healthy-384 & healthy & k\\_\\_Fungi.p\\_\\_Basidiomycota.c\\_\\_Malasseziomycetes.o\\_\\_Malasseziales.f\\_\\_Malasseziaceae.g\\_\\_Malassezia.s\\_\\_Malassezia\\_restricta & 0\\\\\n",
       "\t SRR15323211 & Healthy-102 & healthy & k\\_\\_Fungi.p\\_\\_Basidiomycota.c\\_\\_Malasseziomycetes.o\\_\\_Malasseziales.f\\_\\_Malasseziaceae.g\\_\\_Malassezia.s\\_\\_Malassezia\\_restricta & 0\\\\\n",
       "\\end{tabular}\n"
      ],
      "text/markdown": [
       "\n",
       "A tibble: 6 × 5\n",
       "\n",
       "| index &lt;chr&gt; | phenotype &lt;chr&gt; | label &lt;chr&gt; | taxon_name &lt;fct&gt; | abundance &lt;dbl&gt; |\n",
       "|---|---|---|---|---|\n",
       "| SRR15323206 | Healthy-116 | healthy | k__Fungi.p__Basidiomycota.c__Malasseziomycetes.o__Malasseziales.f__Malasseziaceae.g__Malassezia.s__Malassezia_restricta | 0 |\n",
       "| SRR15323207 | Healthy-120 | healthy | k__Fungi.p__Basidiomycota.c__Malasseziomycetes.o__Malasseziales.f__Malasseziaceae.g__Malassezia.s__Malassezia_restricta | 0 |\n",
       "| SRR15323208 | Healthy-317 | healthy | k__Fungi.p__Basidiomycota.c__Malasseziomycetes.o__Malasseziales.f__Malasseziaceae.g__Malassezia.s__Malassezia_restricta | 0 |\n",
       "| SRR15323209 | Healthy-362 | healthy | k__Fungi.p__Basidiomycota.c__Malasseziomycetes.o__Malasseziales.f__Malasseziaceae.g__Malassezia.s__Malassezia_restricta | 0 |\n",
       "| SRR15323210 | Healthy-384 | healthy | k__Fungi.p__Basidiomycota.c__Malasseziomycetes.o__Malasseziales.f__Malasseziaceae.g__Malassezia.s__Malassezia_restricta | 0 |\n",
       "| SRR15323211 | Healthy-102 | healthy | k__Fungi.p__Basidiomycota.c__Malasseziomycetes.o__Malasseziales.f__Malasseziaceae.g__Malassezia.s__Malassezia_restricta | 0 |\n",
       "\n"
      ],
      "text/plain": [
       "  index       phenotype   label  \n",
       "1 SRR15323206 Healthy-116 healthy\n",
       "2 SRR15323207 Healthy-120 healthy\n",
       "3 SRR15323208 Healthy-317 healthy\n",
       "4 SRR15323209 Healthy-362 healthy\n",
       "5 SRR15323210 Healthy-384 healthy\n",
       "6 SRR15323211 Healthy-102 healthy\n",
       "  taxon_name                                                                                                             \n",
       "1 k__Fungi.p__Basidiomycota.c__Malasseziomycetes.o__Malasseziales.f__Malasseziaceae.g__Malassezia.s__Malassezia_restricta\n",
       "2 k__Fungi.p__Basidiomycota.c__Malasseziomycetes.o__Malasseziales.f__Malasseziaceae.g__Malassezia.s__Malassezia_restricta\n",
       "3 k__Fungi.p__Basidiomycota.c__Malasseziomycetes.o__Malasseziales.f__Malasseziaceae.g__Malassezia.s__Malassezia_restricta\n",
       "4 k__Fungi.p__Basidiomycota.c__Malasseziomycetes.o__Malasseziales.f__Malasseziaceae.g__Malassezia.s__Malassezia_restricta\n",
       "5 k__Fungi.p__Basidiomycota.c__Malasseziomycetes.o__Malasseziales.f__Malasseziaceae.g__Malassezia.s__Malassezia_restricta\n",
       "6 k__Fungi.p__Basidiomycota.c__Malasseziomycetes.o__Malasseziales.f__Malasseziaceae.g__Malassezia.s__Malassezia_restricta\n",
       "  abundance\n",
       "1 0        \n",
       "2 0        \n",
       "3 0        \n",
       "4 0        \n",
       "5 0        \n",
       "6 0        "
      ]
     },
     "metadata": {},
     "output_type": "display_data"
    }
   ],
   "source": [
    "table_s <- melt(feature_s, variable.name = \"taxon_name\", value.name = \"abundance\")\n",
    "table_s <- as_tibble(table_s)\n",
    "# head(table_s)\n",
    "# tail(table_s)"
   ]
  },
  {
   "cell_type": "code",
   "execution_count": 35,
   "id": "665c38cf-530d-4850-9377-143c9d0a0d03",
   "metadata": {},
   "outputs": [
    {
     "data": {
      "text/plain": [
       "    run_id          sample_name         phenotype        \n",
       " Length:1463        Length:1463        Length:1463       \n",
       " Class :character   Class :character   Class :character  \n",
       " Mode  :character   Mode  :character   Mode  :character  \n",
       "                                                         \n",
       "                                                         \n",
       "                                                         \n",
       "                                                         \n",
       "                                                                                                                                     taxon_name  \n",
       " k__Fungi.p__Ascomycota.c__Eurotiomycetes.o__Eurotiales.f__Aspergillaceae.g__Aspergillus.s__Aspergillus_aculeatus                         :  34  \n",
       " k__Fungi.p__Ascomycota.c__Saccharomycetes.o__Saccharomycetales.f__Saccharomycetales_fam_Incertae_sedis.g__Candida.s__Candida_parapsilosis:  32  \n",
       " k__Fungi.p__Ascomycota.c__Eurotiomycetes.o__Eurotiales.f__Aspergillaceae.g__Aspergillus.__                                               :  32  \n",
       " k__Fungi.p__Ascomycota.c__Dothideomycetes.o__Capnodiales.f__Mycosphaerellaceae.g__Ramularia.s__Ramularia_coryli                          :  31  \n",
       " k__Fungi.p__Ascomycota.c__Dothideomycetes.o__Capnodiales.f__Cladosporiaceae.g__Cladosporium.__                                           :  30  \n",
       " k__Fungi.p__Ascomycota.c__Eurotiomycetes.o__Eurotiales.f__Aspergillaceae.g__Aspergillus.s__Aspergillus_penicillioides                    :  29  \n",
       " (Other)                                                                                                                                  :1275  \n",
       "   abundance      \n",
       " Min.   :    2.0  \n",
       " 1st Qu.:   20.0  \n",
       " Median :   56.0  \n",
       " Mean   :  661.4  \n",
       " 3rd Qu.:  171.5  \n",
       " Max.   :44112.0  \n",
       "                  "
      ]
     },
     "metadata": {},
     "output_type": "display_data"
    }
   ],
   "source": [
    "# omit rows with abundance equals 0\n",
    "abun_fil <- filter(table_s, abundance != 0, taxon_name != \"k__Fungi.__.__.__.__.__.__\") %>%\n",
    "            rename(run_id = index, sample_name=phenotype, phenotype=label) %>%\n",
    "            arrange(index)\n",
    "summary(abun_fil)\n",
    "write.csv(file=\"01_abundance_species.csv\", abun_fil, row.names=FALSE)"
   ]
  }
 ],
 "metadata": {
  "kernelspec": {
   "display_name": "R",
   "language": "R",
   "name": "ir"
  },
  "language_info": {
   "codemirror_mode": "r",
   "file_extension": ".r",
   "mimetype": "text/x-r-source",
   "name": "R",
   "pygments_lexer": "r",
   "version": "4.1.2"
  }
 },
 "nbformat": 4,
 "nbformat_minor": 5
}
