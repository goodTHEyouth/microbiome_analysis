{
 "cells": [
  {
   "cell_type": "code",
   "execution_count": null,
   "id": "54ddf278-94d4-4cb8-bbc1-881395fb2513",
   "metadata": {
    "vscode": {
     "languageId": "r"
    }
   },
   "outputs": [],
   "source": [
    "# this script is made for processing metadata files to those of same header\n",
    "library(dplyr)\n",
    "# setwd()"
   ]
  },
  {
   "cell_type": "code",
   "execution_count": 68,
   "id": "a7a9a335-eb53-425a-b3f9-02e9f40d10b8",
   "metadata": {
    "vscode": {
     "languageId": "r"
    }
   },
   "outputs": [],
   "source": [
    "model <- read.csv(\"/mnt/raid7/mingyuwang/gut_fungus/example*/test_metadata_process/sample_to_run_info.csv\", header = TRUE) # 模板表格"
   ]
  },
  {
   "cell_type": "code",
   "execution_count": 69,
   "id": "b828819e-fdfa-4bf4-ae8a-98cdf4f14528",
   "metadata": {
    "vscode": {
     "languageId": "r"
    }
   },
   "outputs": [],
   "source": [
    "ori_origin_metadata <- read.csv(\"metadata.csv\", header = TRUE) # 待转换的表格"
   ]
  },
  {
   "cell_type": "code",
   "execution_count": null,
   "id": "e12d20d4-992a-43d3-9488-b16abb88bdb7",
   "metadata": {
    "vscode": {
     "languageId": "r"
    }
   },
   "outputs": [],
   "source": [
    "##################\n",
    "# 这一行代码复制粘贴这用，里面的内容需要调整，因为select不能识别不存在的列\n",
    "select(tibble_origin_metadata, checking , project_id , our_project_id , sample_name , original_sample_description , \n",
    "       curated_sample_description , run_id , sample_id , second_sample_id , experment_type , nr_reads_sequenced , \n",
    "       instrument_model , disease , phenotype , is_disease_stage_available , disease_stage , more , more_info , contry , \n",
    "       collection_date , sex , host_age , diet , longitude , latitude , BMI , recent_antibiotics_use , antibiotics_used , \n",
    "       antibiotics_does , days_without_antibiotics_use)\n",
    "##################"
   ]
  },
  {
   "cell_type": "code",
   "execution_count": null,
   "id": "a42278a4-be4d-4c54-9def-fffdaeb4dba8",
   "metadata": {
    "vscode": {
     "languageId": "r"
    }
   },
   "outputs": [],
   "source": [
    "# 首先要对metadata进行处理，包括更改列名以及取子集\n",
    "\n",
    "tibble_origin_metadata <- tbl_df(ori_origin_metadata)\n",
    "tibble_origin_metadata[1,]\n"
   ]
  },
  {
   "cell_type": "code",
   "execution_count": null,
   "id": "b36d3ba5-362c-4eac-94d3-7673e3ee9615",
   "metadata": {
    "vscode": {
     "languageId": "r"
    }
   },
   "outputs": [],
   "source": [
    "###\n",
    "sec_tibble_selected <- select(tibble_origin_metadata, project_id=BioProject , sample_name=Sample.Name ,  \n",
    "       run_id=Run , sample_id=SRA.Study , second_sample_id=BioSample , experment_type=Assay.Type)\n",
    "out_metadata <- bind_rows(model, sec_tibble_selected) %>%\n",
    "    filter(project_id == \"PRJNA751473\") # 过滤掉模板文件里原本带的那几行。\n",
    "out_metadata[1:3,]"
   ]
  },
  {
   "cell_type": "code",
   "execution_count": null,
   "id": "3f12b98e-f93d-4319-ba83-9276f0892534",
   "metadata": {
    "vscode": {
     "languageId": "r"
    }
   },
   "outputs": [],
   "source": [
    "# 之后是否还可以批量添加信息？比如我现在的phenotype是NA，是否可以批量的添加表型信息？\n",
    "# 需要的不是join函数\n",
    "# 可以按run id排序后直接整列修改内容\n",
    "ori_attach <- read.table(\"meta\", header = TRUE)\n",
    "attach <- tbl_df(ori_attach)\n",
    "attach[1,]\n",
    "sec_selected_attach <- select(attach, run_id=sampleid, phenotype=label)\n",
    "sec_selected_attach[1:3,]\n",
    "out_metadata[\"phenotype\"] <- sec_selected_attach[\"phenotype\"]\n",
    "write.csv(out_metadata, file=\"curated_metadata.csv\", row.names = FALSE)\n"
   ]
  }
 ],
 "metadata": {
  "kernelspec": {
   "display_name": "R",
   "language": "R",
   "name": "ir"
  },
  "language_info": {
   "codemirror_mode": "r",
   "file_extension": ".r",
   "mimetype": "text/x-r-source",
   "name": "R",
   "pygments_lexer": "r",
   "version": "4.1.2"
  }
 },
 "nbformat": 4,
 "nbformat_minor": 5
}
