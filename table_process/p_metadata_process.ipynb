{
 "cells": [
  {
   "cell_type": "code",
   "execution_count": null,
   "id": "54ddf278-94d4-4cb8-bbc1-881395fb2513",
   "metadata": {},
   "outputs": [],
   "source": [
    "# this script is made for processing metadata files to those of same header"
   ]
  },
  {
   "cell_type": "code",
   "execution_count": 68,
   "id": "a7a9a335-eb53-425a-b3f9-02e9f40d10b8",
   "metadata": {},
   "outputs": [],
   "source": [
    "model <- read.csv(\"sample_to_run_info.csv\", header = TRUE) # 模板表格"
   ]
  },
  {
   "cell_type": "code",
   "execution_count": 69,
   "id": "b828819e-fdfa-4bf4-ae8a-98cdf4f14528",
   "metadata": {},
   "outputs": [],
   "source": [
    "ori_origin_metadata <- read.csv(\"metadata.csv\", header = TRUE) # 待转换的表格"
   ]
  },
  {
   "cell_type": "code",
   "execution_count": 14,
   "id": "cfad570c-5c08-40ba-a443-cb96908d48ec",
   "metadata": {},
   "outputs": [],
   "source": [
    "# dplyr 包似乎比较理想\n",
    "library(dplyr)"
   ]
  },
  {
   "cell_type": "code",
   "execution_count": null,
   "id": "e12d20d4-992a-43d3-9488-b16abb88bdb7",
   "metadata": {},
   "outputs": [],
   "source": [
    "##################\n",
    "# 这一行代码复制粘贴这用，里面的内容需要调整，因为select不能识别不存在的列\n",
    "select(tibble_origin_metadata, checking , project_id , our_project_id , sample_name , original_sample_description , \n",
    "       curated_sample_description , run_id , sample_id , second_sample_id , experment_type , nr_reads_sequenced , \n",
    "       instrument_model , disease , phenotype , is_disease_stage_available , disease_stage , more , more_info , contry , \n",
    "       collection_date , sex , host_age , diet , longitude , latitude , BMI , recent_antibiotics_use , antibiotics_used , \n",
    "       antibiotics_does , days_without_antibiotics_use)\n",
    "##################"
   ]
  },
  {
   "cell_type": "code",
   "execution_count": 70,
   "id": "a42278a4-be4d-4c54-9def-fffdaeb4dba8",
   "metadata": {},
   "outputs": [
    {
     "data": {
      "text/html": [
       "<table class=\"dataframe\">\n",
       "<caption>A tibble: 1 × 36</caption>\n",
       "<thead>\n",
       "\t<tr><th scope=col>Run</th><th scope=col>Assay.Type</th><th scope=col>AvgSpotLen</th><th scope=col>Bases</th><th scope=col>BioProject</th><th scope=col>BioSample</th><th scope=col>BioSampleModel</th><th scope=col>Bytes</th><th scope=col>Center.Name</th><th scope=col>Collection_date</th><th scope=col>⋯</th><th scope=col>lat_lon</th><th scope=col>Library.Name</th><th scope=col>LibraryLayout</th><th scope=col>LibrarySelection</th><th scope=col>LibrarySource</th><th scope=col>Organism</th><th scope=col>Platform</th><th scope=col>ReleaseDate</th><th scope=col>Sample.Name</th><th scope=col>SRA.Study</th></tr>\n",
       "\t<tr><th scope=col>&lt;chr&gt;</th><th scope=col>&lt;chr&gt;</th><th scope=col>&lt;int&gt;</th><th scope=col>&lt;int&gt;</th><th scope=col>&lt;chr&gt;</th><th scope=col>&lt;chr&gt;</th><th scope=col>&lt;chr&gt;</th><th scope=col>&lt;int&gt;</th><th scope=col>&lt;chr&gt;</th><th scope=col>&lt;chr&gt;</th><th scope=col>⋯</th><th scope=col>&lt;chr&gt;</th><th scope=col>&lt;chr&gt;</th><th scope=col>&lt;chr&gt;</th><th scope=col>&lt;chr&gt;</th><th scope=col>&lt;chr&gt;</th><th scope=col>&lt;chr&gt;</th><th scope=col>&lt;chr&gt;</th><th scope=col>&lt;chr&gt;</th><th scope=col>&lt;chr&gt;</th><th scope=col>&lt;chr&gt;</th></tr>\n",
       "</thead>\n",
       "<tbody>\n",
       "\t<tr><td>SRR15323178</td><td>AMPLICON</td><td>364</td><td>56844649</td><td>PRJNA751473</td><td>SAMN20519100</td><td>MIMARKS.survey,MIGS/MIMS/MIMARKS.human-gut</td><td>35928021</td><td>KASETSART UNIVERSITY</td><td>2016-10-01</td><td>⋯</td><td>13.7323 N 100.5368 E</td><td>Atopic-085</td><td>PAIRED</td><td>PCR</td><td>METAGENOMIC</td><td>human gut metagenome</td><td>ILLUMINA</td><td>2021-09-16T00:00:00Z</td><td>Atopic-085</td><td>SRP330833</td></tr>\n",
       "</tbody>\n",
       "</table>\n"
      ],
      "text/latex": [
       "A tibble: 1 × 36\n",
       "\\begin{tabular}{lllllllllllllllllllll}\n",
       " Run & Assay.Type & AvgSpotLen & Bases & BioProject & BioSample & BioSampleModel & Bytes & Center.Name & Collection\\_date & ⋯ & lat\\_lon & Library.Name & LibraryLayout & LibrarySelection & LibrarySource & Organism & Platform & ReleaseDate & Sample.Name & SRA.Study\\\\\n",
       " <chr> & <chr> & <int> & <int> & <chr> & <chr> & <chr> & <int> & <chr> & <chr> & ⋯ & <chr> & <chr> & <chr> & <chr> & <chr> & <chr> & <chr> & <chr> & <chr> & <chr>\\\\\n",
       "\\hline\n",
       "\t SRR15323178 & AMPLICON & 364 & 56844649 & PRJNA751473 & SAMN20519100 & MIMARKS.survey,MIGS/MIMS/MIMARKS.human-gut & 35928021 & KASETSART UNIVERSITY & 2016-10-01 & ⋯ & 13.7323 N 100.5368 E & Atopic-085 & PAIRED & PCR & METAGENOMIC & human gut metagenome & ILLUMINA & 2021-09-16T00:00:00Z & Atopic-085 & SRP330833\\\\\n",
       "\\end{tabular}\n"
      ],
      "text/markdown": [
       "\n",
       "A tibble: 1 × 36\n",
       "\n",
       "| Run &lt;chr&gt; | Assay.Type &lt;chr&gt; | AvgSpotLen &lt;int&gt; | Bases &lt;int&gt; | BioProject &lt;chr&gt; | BioSample &lt;chr&gt; | BioSampleModel &lt;chr&gt; | Bytes &lt;int&gt; | Center.Name &lt;chr&gt; | Collection_date &lt;chr&gt; | ⋯ ⋯ | lat_lon &lt;chr&gt; | Library.Name &lt;chr&gt; | LibraryLayout &lt;chr&gt; | LibrarySelection &lt;chr&gt; | LibrarySource &lt;chr&gt; | Organism &lt;chr&gt; | Platform &lt;chr&gt; | ReleaseDate &lt;chr&gt; | Sample.Name &lt;chr&gt; | SRA.Study &lt;chr&gt; |\n",
       "|---|---|---|---|---|---|---|---|---|---|---|---|---|---|---|---|---|---|---|---|---|\n",
       "| SRR15323178 | AMPLICON | 364 | 56844649 | PRJNA751473 | SAMN20519100 | MIMARKS.survey,MIGS/MIMS/MIMARKS.human-gut | 35928021 | KASETSART UNIVERSITY | 2016-10-01 | ⋯ | 13.7323 N 100.5368 E | Atopic-085 | PAIRED | PCR | METAGENOMIC | human gut metagenome | ILLUMINA | 2021-09-16T00:00:00Z | Atopic-085 | SRP330833 |\n",
       "\n"
      ],
      "text/plain": [
       "  Run         Assay.Type AvgSpotLen Bases    BioProject  BioSample   \n",
       "1 SRR15323178 AMPLICON   364        56844649 PRJNA751473 SAMN20519100\n",
       "  BioSampleModel                             Bytes    Center.Name         \n",
       "1 MIMARKS.survey,MIGS/MIMS/MIMARKS.human-gut 35928021 KASETSART UNIVERSITY\n",
       "  Collection_date ⋯ lat_lon              Library.Name LibraryLayout\n",
       "1 2016-10-01      ⋯ 13.7323 N 100.5368 E Atopic-085   PAIRED       \n",
       "  LibrarySelection LibrarySource Organism             Platform\n",
       "1 PCR              METAGENOMIC   human gut metagenome ILLUMINA\n",
       "  ReleaseDate          Sample.Name SRA.Study\n",
       "1 2021-09-16T00:00:00Z Atopic-085  SRP330833"
      ]
     },
     "metadata": {},
     "output_type": "display_data"
    }
   ],
   "source": [
    "# 首先要对metadata进行处理，包括更改列名以及取子集\n",
    "\n",
    "tibble_origin_metadata <- tbl_df(ori_origin_metadata)\n",
    "tibble_origin_metadata[1,]\n"
   ]
  },
  {
   "cell_type": "code",
   "execution_count": 71,
   "id": "b36d3ba5-362c-4eac-94d3-7673e3ee9615",
   "metadata": {},
   "outputs": [
    {
     "data": {
      "text/html": [
       "<table class=\"dataframe\">\n",
       "<caption>A data.frame: 3 × 30</caption>\n",
       "<thead>\n",
       "\t<tr><th></th><th scope=col>checking</th><th scope=col>project_id</th><th scope=col>our_project_id</th><th scope=col>sample_name</th><th scope=col>original_sample_description</th><th scope=col>curated_sample_description</th><th scope=col>run_id</th><th scope=col>sample_id</th><th scope=col>second_sample_id</th><th scope=col>experment_type</th><th scope=col>⋯</th><th scope=col>sex</th><th scope=col>host_age</th><th scope=col>diet</th><th scope=col>longitude</th><th scope=col>latitude</th><th scope=col>BMI</th><th scope=col>recent_antibiotics_use</th><th scope=col>antibiotics_used</th><th scope=col>antibiotics_does</th><th scope=col>days_without_antibiotics_use</th></tr>\n",
       "\t<tr><th></th><th scope=col>&lt;int&gt;</th><th scope=col>&lt;chr&gt;</th><th scope=col>&lt;chr&gt;</th><th scope=col>&lt;chr&gt;</th><th scope=col>&lt;chr&gt;</th><th scope=col>&lt;chr&gt;</th><th scope=col>&lt;chr&gt;</th><th scope=col>&lt;chr&gt;</th><th scope=col>&lt;chr&gt;</th><th scope=col>&lt;chr&gt;</th><th scope=col>⋯</th><th scope=col>&lt;chr&gt;</th><th scope=col>&lt;chr&gt;</th><th scope=col>&lt;chr&gt;</th><th scope=col>&lt;chr&gt;</th><th scope=col>&lt;chr&gt;</th><th scope=col>&lt;chr&gt;</th><th scope=col>&lt;chr&gt;</th><th scope=col>&lt;chr&gt;</th><th scope=col>&lt;chr&gt;</th><th scope=col>&lt;chr&gt;</th></tr>\n",
       "</thead>\n",
       "<tbody>\n",
       "\t<tr><th scope=row>1</th><td>NA</td><td>PRJNA751473</td><td>NA</td><td>Atopic-085</td><td>NA</td><td>NA</td><td>SRR15323178</td><td>SRP330833</td><td>SAMN20519100</td><td>AMPLICON</td><td>⋯</td><td>NA</td><td>NA</td><td>NA</td><td>NA</td><td>NA</td><td>NA</td><td>NA</td><td>NA</td><td>NA</td><td>NA</td></tr>\n",
       "\t<tr><th scope=row>2</th><td>NA</td><td>PRJNA751473</td><td>NA</td><td>Atopic-079</td><td>NA</td><td>NA</td><td>SRR15323179</td><td>SRP330833</td><td>SAMN20519099</td><td>AMPLICON</td><td>⋯</td><td>NA</td><td>NA</td><td>NA</td><td>NA</td><td>NA</td><td>NA</td><td>NA</td><td>NA</td><td>NA</td><td>NA</td></tr>\n",
       "\t<tr><th scope=row>3</th><td>NA</td><td>PRJNA751473</td><td>NA</td><td>Atopic-173</td><td>NA</td><td>NA</td><td>SRR15323180</td><td>SRP330833</td><td>SAMN20519101</td><td>AMPLICON</td><td>⋯</td><td>NA</td><td>NA</td><td>NA</td><td>NA</td><td>NA</td><td>NA</td><td>NA</td><td>NA</td><td>NA</td><td>NA</td></tr>\n",
       "</tbody>\n",
       "</table>\n"
      ],
      "text/latex": [
       "A data.frame: 3 × 30\n",
       "\\begin{tabular}{r|lllllllllllllllllllll}\n",
       "  & checking & project\\_id & our\\_project\\_id & sample\\_name & original\\_sample\\_description & curated\\_sample\\_description & run\\_id & sample\\_id & second\\_sample\\_id & experment\\_type & ⋯ & sex & host\\_age & diet & longitude & latitude & BMI & recent\\_antibiotics\\_use & antibiotics\\_used & antibiotics\\_does & days\\_without\\_antibiotics\\_use\\\\\n",
       "  & <int> & <chr> & <chr> & <chr> & <chr> & <chr> & <chr> & <chr> & <chr> & <chr> & ⋯ & <chr> & <chr> & <chr> & <chr> & <chr> & <chr> & <chr> & <chr> & <chr> & <chr>\\\\\n",
       "\\hline\n",
       "\t1 & NA & PRJNA751473 & NA & Atopic-085 & NA & NA & SRR15323178 & SRP330833 & SAMN20519100 & AMPLICON & ⋯ & NA & NA & NA & NA & NA & NA & NA & NA & NA & NA\\\\\n",
       "\t2 & NA & PRJNA751473 & NA & Atopic-079 & NA & NA & SRR15323179 & SRP330833 & SAMN20519099 & AMPLICON & ⋯ & NA & NA & NA & NA & NA & NA & NA & NA & NA & NA\\\\\n",
       "\t3 & NA & PRJNA751473 & NA & Atopic-173 & NA & NA & SRR15323180 & SRP330833 & SAMN20519101 & AMPLICON & ⋯ & NA & NA & NA & NA & NA & NA & NA & NA & NA & NA\\\\\n",
       "\\end{tabular}\n"
      ],
      "text/markdown": [
       "\n",
       "A data.frame: 3 × 30\n",
       "\n",
       "| <!--/--> | checking &lt;int&gt; | project_id &lt;chr&gt; | our_project_id &lt;chr&gt; | sample_name &lt;chr&gt; | original_sample_description &lt;chr&gt; | curated_sample_description &lt;chr&gt; | run_id &lt;chr&gt; | sample_id &lt;chr&gt; | second_sample_id &lt;chr&gt; | experment_type &lt;chr&gt; | ⋯ ⋯ | sex &lt;chr&gt; | host_age &lt;chr&gt; | diet &lt;chr&gt; | longitude &lt;chr&gt; | latitude &lt;chr&gt; | BMI &lt;chr&gt; | recent_antibiotics_use &lt;chr&gt; | antibiotics_used &lt;chr&gt; | antibiotics_does &lt;chr&gt; | days_without_antibiotics_use &lt;chr&gt; |\n",
       "|---|---|---|---|---|---|---|---|---|---|---|---|---|---|---|---|---|---|---|---|---|---|\n",
       "| 1 | NA | PRJNA751473 | NA | Atopic-085 | NA | NA | SRR15323178 | SRP330833 | SAMN20519100 | AMPLICON | ⋯ | NA | NA | NA | NA | NA | NA | NA | NA | NA | NA |\n",
       "| 2 | NA | PRJNA751473 | NA | Atopic-079 | NA | NA | SRR15323179 | SRP330833 | SAMN20519099 | AMPLICON | ⋯ | NA | NA | NA | NA | NA | NA | NA | NA | NA | NA |\n",
       "| 3 | NA | PRJNA751473 | NA | Atopic-173 | NA | NA | SRR15323180 | SRP330833 | SAMN20519101 | AMPLICON | ⋯ | NA | NA | NA | NA | NA | NA | NA | NA | NA | NA |\n",
       "\n"
      ],
      "text/plain": [
       "  checking project_id  our_project_id sample_name original_sample_description\n",
       "1 NA       PRJNA751473 NA             Atopic-085  NA                         \n",
       "2 NA       PRJNA751473 NA             Atopic-079  NA                         \n",
       "3 NA       PRJNA751473 NA             Atopic-173  NA                         \n",
       "  curated_sample_description run_id      sample_id second_sample_id\n",
       "1 NA                         SRR15323178 SRP330833 SAMN20519100    \n",
       "2 NA                         SRR15323179 SRP330833 SAMN20519099    \n",
       "3 NA                         SRR15323180 SRP330833 SAMN20519101    \n",
       "  experment_type ⋯ sex host_age diet longitude latitude BMI\n",
       "1 AMPLICON       ⋯ NA  NA       NA   NA        NA       NA \n",
       "2 AMPLICON       ⋯ NA  NA       NA   NA        NA       NA \n",
       "3 AMPLICON       ⋯ NA  NA       NA   NA        NA       NA \n",
       "  recent_antibiotics_use antibiotics_used antibiotics_does\n",
       "1 NA                     NA               NA              \n",
       "2 NA                     NA               NA              \n",
       "3 NA                     NA               NA              \n",
       "  days_without_antibiotics_use\n",
       "1 NA                          \n",
       "2 NA                          \n",
       "3 NA                          "
      ]
     },
     "metadata": {},
     "output_type": "display_data"
    }
   ],
   "source": [
    "###\n",
    "sec_tibble_selected <- select(tibble_origin_metadata, project_id=BioProject , sample_name=Sample.Name ,  \n",
    "       run_id=Run , sample_id=SRA.Study , second_sample_id=BioSample , experment_type=Assay.Type)\n",
    "out_metadata <- bind_rows(model, sec_tibble_selected) %>%\n",
    "    filter(project_id == \"PRJNA751473\") # 过滤掉模板文件里原本带的那几行。\n",
    "out_metadata[1:3,]"
   ]
  },
  {
   "cell_type": "code",
   "execution_count": 72,
   "id": "3f12b98e-f93d-4319-ba83-9276f0892534",
   "metadata": {},
   "outputs": [
    {
     "data": {
      "text/html": [
       "<table class=\"dataframe\">\n",
       "<caption>A tibble: 1 × 3</caption>\n",
       "<thead>\n",
       "\t<tr><th scope=col>sampleid</th><th scope=col>phenotype</th><th scope=col>label</th></tr>\n",
       "\t<tr><th scope=col>&lt;chr&gt;</th><th scope=col>&lt;chr&gt;</th><th scope=col>&lt;chr&gt;</th></tr>\n",
       "</thead>\n",
       "<tbody>\n",
       "\t<tr><td>SRR15323178</td><td>Atopic-085</td><td>atopic</td></tr>\n",
       "</tbody>\n",
       "</table>\n"
      ],
      "text/latex": [
       "A tibble: 1 × 3\n",
       "\\begin{tabular}{lll}\n",
       " sampleid & phenotype & label\\\\\n",
       " <chr> & <chr> & <chr>\\\\\n",
       "\\hline\n",
       "\t SRR15323178 & Atopic-085 & atopic\\\\\n",
       "\\end{tabular}\n"
      ],
      "text/markdown": [
       "\n",
       "A tibble: 1 × 3\n",
       "\n",
       "| sampleid &lt;chr&gt; | phenotype &lt;chr&gt; | label &lt;chr&gt; |\n",
       "|---|---|---|\n",
       "| SRR15323178 | Atopic-085 | atopic |\n",
       "\n"
      ],
      "text/plain": [
       "  sampleid    phenotype  label \n",
       "1 SRR15323178 Atopic-085 atopic"
      ]
     },
     "metadata": {},
     "output_type": "display_data"
    },
    {
     "data": {
      "text/html": [
       "<table class=\"dataframe\">\n",
       "<caption>A tibble: 3 × 2</caption>\n",
       "<thead>\n",
       "\t<tr><th scope=col>run_id</th><th scope=col>phenotype</th></tr>\n",
       "\t<tr><th scope=col>&lt;chr&gt;</th><th scope=col>&lt;chr&gt;</th></tr>\n",
       "</thead>\n",
       "<tbody>\n",
       "\t<tr><td>SRR15323178</td><td>atopic</td></tr>\n",
       "\t<tr><td>SRR15323179</td><td>atopic</td></tr>\n",
       "\t<tr><td>SRR15323180</td><td>atopic</td></tr>\n",
       "</tbody>\n",
       "</table>\n"
      ],
      "text/latex": [
       "A tibble: 3 × 2\n",
       "\\begin{tabular}{ll}\n",
       " run\\_id & phenotype\\\\\n",
       " <chr> & <chr>\\\\\n",
       "\\hline\n",
       "\t SRR15323178 & atopic\\\\\n",
       "\t SRR15323179 & atopic\\\\\n",
       "\t SRR15323180 & atopic\\\\\n",
       "\\end{tabular}\n"
      ],
      "text/markdown": [
       "\n",
       "A tibble: 3 × 2\n",
       "\n",
       "| run_id &lt;chr&gt; | phenotype &lt;chr&gt; |\n",
       "|---|---|\n",
       "| SRR15323178 | atopic |\n",
       "| SRR15323179 | atopic |\n",
       "| SRR15323180 | atopic |\n",
       "\n"
      ],
      "text/plain": [
       "  run_id      phenotype\n",
       "1 SRR15323178 atopic   \n",
       "2 SRR15323179 atopic   \n",
       "3 SRR15323180 atopic   "
      ]
     },
     "metadata": {},
     "output_type": "display_data"
    }
   ],
   "source": [
    "# 之后是否还可以批量添加信息？比如我现在的phenotype是NA，是否可以批量的添加表型信息？\n",
    "# 需要的不是join函数\n",
    "# 可以按run id排序后直接整列修改内容\n",
    "ori_attach <- read.table(\"meta\", header = TRUE)\n",
    "attach <- tbl_df(ori_attach)\n",
    "attach[1,]\n",
    "sec_selected_attach <- select(attach, run_id=sampleid, phenotype=label)\n",
    "sec_selected_attach[1:3,]\n",
    "out_metadata[\"phenotype\"] <- sec_selected_attach[\"phenotype\"]\n",
    "write.csv(out_metadata, file=\"curated_metadata.csv\", row.names = FALSE)\n"
   ]
  }
 ],
 "metadata": {
  "kernelspec": {
   "display_name": "R",
   "language": "R",
   "name": "ir"
  },
  "language_info": {
   "codemirror_mode": "r",
   "file_extension": ".r",
   "mimetype": "text/x-r-source",
   "name": "R",
   "pygments_lexer": "r",
   "version": "4.1.2"
  }
 },
 "nbformat": 4,
 "nbformat_minor": 5
}
